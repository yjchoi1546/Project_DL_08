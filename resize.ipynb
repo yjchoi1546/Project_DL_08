{
 "cells": [
  {
   "cell_type": "code",
   "execution_count": 11,
   "id": "a8dabfc6",
   "metadata": {},
   "outputs": [
    {
     "name": "stdout",
     "output_type": "stream",
     "text": [
      "0번째 진행중\n",
      "100번째 진행중\n",
      "200번째 진행중\n",
      "300번째 진행중\n",
      "400번째 진행중\n",
      "500번째 진행중\n",
      "600번째 진행중\n",
      "700번째 진행중\n",
      "800번째 진행중\n",
      "900번째 진행중\n",
      "1000번째 진행중\n",
      "1100번째 진행중\n",
      "1200번째 진행중\n",
      "1300번째 진행중\n",
      "1400번째 진행중\n",
      "1500번째 진행중\n",
      "1600번째 진행중\n",
      "1700번째 진행중\n",
      "1800번째 진행중\n",
      "1900번째 진행중\n",
      "2000번째 진행중\n",
      "2100번째 진행중\n",
      "Resizing completed.\n"
     ]
    }
   ],
   "source": [
    "import os\n",
    "from PIL import Image, ImageFile\n",
    "\n",
    "# 손상된 파일도 강제로 읽도록 허용\n",
    "ImageFile.LOAD_TRUNCATED_IMAGES = True\n",
    "\n",
    "# 대상 폴더 경로\n",
    "folder_path = \"C:/Dataset_project4/VS_2.직접촬영_07.유리병_003.투명.zip/232.재활용품_분류_및_선별_데이터/01-1.정식개방데이터/Validation/01.원천데이터/VS_2.직접촬영_07.유리병_003.투명_unzip\"\n",
    "\n",
    "# 줄이고 싶은 해상도 (일단 예시: 1024*576)\n",
    "new_size = (256, 144)\n",
    "\n",
    "# 결과 저장할 폴더 경로\n",
    "output_folder = os.path.join(folder_path, \"resized_white\")\n",
    "os.makedirs(output_folder, exist_ok=True)\n",
    "\n",
    "bad_files = [] # 문제 발생한 파일 기록용 \n",
    "\n",
    "# 폴더 내 모든 jpg 파일 탐색\n",
    "for index, filename in enumerate(os.listdir(folder_path)):\n",
    "    if filename.lower().endswith(\".jpg\"):\n",
    "        # 파일 경로\n",
    "        file_path = os.path.join(folder_path, filename)\n",
    "        # 저장 경로\n",
    "        save_path = os.path.join(output_folder, filename)\n",
    "\n",
    "        try:\n",
    "            with Image.open(file_path) as img:\n",
    "                # 해상도 줄이기\n",
    "                resized_img = img.resize(new_size, Image.Resampling.LANCZOS)\n",
    "\n",
    "                # 저장\n",
    "                resized_img.save(save_path, \"JPEG\", quality=90)\n",
    "\n",
    "                if(index % 100 == 0):\n",
    "                    print(f\"{index}번째 진행중\")\n",
    "        \n",
    "        except Exception as e:\n",
    "            print(f\"❌ 오류 발생: {filename} → {e}\")\n",
    "            bad_files.append(filename)\n",
    "\n",
    "print(\"Resizing completed.\")\n",
    "\n",
    "if bad_files:\n",
    "    print(\"문제가 발생한 파일 목록:\", bad_files[:10], f\"... 총 {len(bad_files)}개\")\n"
   ]
  },
  {
   "cell_type": "code",
   "execution_count": null,
   "id": "3a59526d",
   "metadata": {},
   "outputs": [],
   "source": []
  }
 ],
 "metadata": {
  "kernelspec": {
   "display_name": "project-aug",
   "language": "python",
   "name": "python3"
  },
  "language_info": {
   "codemirror_mode": {
    "name": "ipython",
    "version": 3
   },
   "file_extension": ".py",
   "mimetype": "text/x-python",
   "name": "python",
   "nbconvert_exporter": "python",
   "pygments_lexer": "ipython3",
   "version": "3.10.18"
  }
 },
 "nbformat": 4,
 "nbformat_minor": 5
}
