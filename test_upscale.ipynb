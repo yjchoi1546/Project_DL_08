{
 "cells": [
  {
   "cell_type": "code",
   "execution_count": 6,
   "id": "6f3fe5d8",
   "metadata": {},
   "outputs": [
    {
     "name": "stdout",
     "output_type": "stream",
     "text": [
      "cuda is available: True\n",
      "Device name:  NVIDIA GeForce RTX 4070 Laptop GPU\n"
     ]
    }
   ],
   "source": [
    "import torch\n",
    "print(\"cuda is available:\",torch.cuda.is_available())\n",
    "if torch.cuda.is_available():\n",
    "    print(\"Device name: \",torch.cuda.get_device_name(0))"
   ]
  },
  {
   "cell_type": "code",
   "execution_count": 7,
   "id": "7879e755",
   "metadata": {},
   "outputs": [
    {
     "name": "stdout",
     "output_type": "stream",
     "text": [
      "Stable Diffusion 업스케일링 모델을 로드 중...\n"
     ]
    },
    {
     "data": {
      "application/vnd.jupyter.widget-view+json": {
       "model_id": "d67093849b7f4c2a9f5a225d07526ace",
       "version_major": 2,
       "version_minor": 0
      },
      "text/plain": [
       "Loading pipeline components...:   0%|          | 0/6 [00:00<?, ?it/s]"
      ]
     },
     "metadata": {},
     "output_type": "display_data"
    },
    {
     "name": "stdout",
     "output_type": "stream",
     "text": [
      "모델 로드 완료.\n",
      "테스트 이미지 처리 중: 100000@4_06001_220808_P1_T1.jpg\n"
     ]
    },
    {
     "data": {
      "application/vnd.jupyter.widget-view+json": {
       "model_id": "368376b62d31460ba9a000907efc7d74",
       "version_major": 2,
       "version_minor": 0
      },
      "text/plain": [
       "  0%|          | 0/75 [00:00<?, ?it/s]"
      ]
     },
     "metadata": {},
     "output_type": "display_data"
    },
    {
     "name": "stdout",
     "output_type": "stream",
     "text": [
      "-> 테스트 이미지 저장 완료: C:/project_aug/upscaled_images_sd\\upscaled_100000@4_06001_220808_P1_T1.jpg\n"
     ]
    }
   ],
   "source": [
    "import os\n",
    "import glob\n",
    "from diffusers import StableDiffusionUpscalePipeline\n",
    "import torch\n",
    "from PIL import Image\n",
    "\n",
    "def upscale_single_image(input_folder, output_folder):\n",
    "    if not torch.cuda.is_available():\n",
    "        print(\"GPU를 찾을 수 없습니다. 이 모델은 GPU 없이는 매우 느립니다.\")\n",
    "        return\n",
    "\n",
    "    print(\"Stable Diffusion 업스케일링 모델을 로드 중...\")\n",
    "    try:\n",
    "        model_id = \"stabilityai/stable-diffusion-x4-upscaler\"\n",
    "        pipeline = StableDiffusionUpscalePipeline.from_pretrained(model_id, torch_dtype=torch.float16)\n",
    "        pipeline = pipeline.to(\"cuda\")\n",
    "    except Exception as e:\n",
    "        print(f\"모델 로드 실패: {e}\")\n",
    "        return\n",
    "    print(\"모델 로드 완료.\")\n",
    "\n",
    "    os.makedirs(output_folder, exist_ok=True)\n",
    "\n",
    "    image_extensions = ['*.jpg', '*.jpeg', '*.png']\n",
    "    image_path = None\n",
    "    for ext in image_extensions:\n",
    "        files = glob.glob(os.path.join(input_folder, ext))\n",
    "        if files:\n",
    "            image_path = files[0]\n",
    "            break\n",
    "\n",
    "    if not image_path:\n",
    "        print(f\"입력 폴더({input_folder})에서 이미지 파일을 찾을 수 없습니다.\")\n",
    "        return\n",
    "\n",
    "    print(f\"테스트 이미지 처리 중: {os.path.basename(image_path)}\")\n",
    "    \n",
    "    # -------- 여기를 수정합니다 --------\n",
    "    # 업스케일링할 이미지에 대한 텍스트 프롬프트\n",
    "    # 이미지 내용에 맞게 구체적으로 작성할수록 좋습니다.\n",
    "    prompt = \"high-quality photo of a crumpled plastic wrapper on a concrete floor, high-resolution, sharp focus, detailed\"\n",
    "    # ---------------------------------\n",
    "    \n",
    "    try:\n",
    "        low_res_img = Image.open(image_path).convert(\"RGB\")\n",
    "        low_res_img_resized = low_res_img.resize((256, 256))\n",
    "        \n",
    "        # 수정된 부분: prompt 인자 추가\n",
    "        upscaled_image = pipeline(prompt=prompt, image=low_res_img_resized).images[0]\n",
    "\n",
    "        final_image = upscaled_image.resize((1024, 1024), Image.LANCZOS)\n",
    "\n",
    "        file_name = f\"upscaled_{os.path.basename(image_path)}\"\n",
    "        output_path = os.path.join(output_folder, file_name)\n",
    "        \n",
    "        final_image.save(output_path)\n",
    "        \n",
    "        print(f\"-> 테스트 이미지 저장 완료: {output_path}\")\n",
    "\n",
    "    except Exception as e:\n",
    "        print(f\"오류 발생: {os.path.basename(image_path)} - {e}\")\n",
    "\n",
    "if __name__ == \"__main__\":\n",
    "    input_folder = \"C:/project_aug/data/Dataset_project4/비닐\"\n",
    "    output_folder = \"C:/project_aug/upscaled_images_sd\"\n",
    "    upscale_single_image(input_folder, output_folder)"
   ]
  },
  {
   "cell_type": "code",
   "execution_count": null,
   "id": "89a653eb",
   "metadata": {},
   "outputs": [],
   "source": []
  }
 ],
 "metadata": {
  "kernelspec": {
   "display_name": "project-aug",
   "language": "python",
   "name": "python3"
  },
  "language_info": {
   "codemirror_mode": {
    "name": "ipython",
    "version": 3
   },
   "file_extension": ".py",
   "mimetype": "text/x-python",
   "name": "python",
   "nbconvert_exporter": "python",
   "pygments_lexer": "ipython3",
   "version": "3.10.18"
  }
 },
 "nbformat": 4,
 "nbformat_minor": 5
}
