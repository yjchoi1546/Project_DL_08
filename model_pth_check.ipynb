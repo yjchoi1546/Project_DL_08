{
 "cells": [
  {
   "cell_type": "code",
   "execution_count": 2,
   "id": "7246ac95",
   "metadata": {},
   "outputs": [
    {
     "name": "stdout",
     "output_type": "stream",
     "text": [
      "✅ 성공: 'model\\Best_ResNet50_model.pth' 파일이 존재합니다.\n",
      "    - 파일 크기: 90.08 MB\n",
      "\n",
      "이제 streamlit_app.py 코드를 실행할 준비가 되었습니다.\n"
     ]
    }
   ],
   "source": [
    "import os\n",
    "\n",
    "# 모델 파일과 폴더 경로를 설정합니다.\n",
    "MODEL_FOLDER = \"model\"\n",
    "MODEL_FILENAME = \"Best_ResNet50_model.pth\"\n",
    "MODEL_PATH = os.path.join(MODEL_FOLDER, MODEL_FILENAME)\n",
    "\n",
    "# --- 1. 'model' 폴더 존재 여부 확인 ---\n",
    "if not os.path.isdir(MODEL_FOLDER):\n",
    "    print(f\"❌ 오류: '{MODEL_FOLDER}' 폴더가 존재하지 않습니다.\")\n",
    "    print(\"아래와 같이 폴더를 먼저 생성해주세요:\")\n",
    "    print(\"└─ your_project_folder/\")\n",
    "    print(\"   └─ model/\")\n",
    "    print(\"      └─ Best_ResNet50_model.pth\")\n",
    "    exit()\n",
    "\n",
    "# --- 2. 모델 파일 존재 여부 확인 ---\n",
    "if not os.path.exists(MODEL_PATH):\n",
    "    print(f\"❌ 오류: '{MODEL_PATH}' 파일을 찾을 수 없습니다.\")\n",
    "    print(f\"서버 PC에서 이 파일을 {MODEL_FOLDER} 폴더로 옮겨주세요.\")\n",
    "else:\n",
    "    # 파일 크기 정보와 함께 성공 메시지 출력\n",
    "    file_size_bytes = os.path.getsize(MODEL_PATH)\n",
    "    file_size_mb = file_size_bytes / (1024 * 1024)\n",
    "    print(f\"✅ 성공: '{MODEL_PATH}' 파일이 존재합니다.\")\n",
    "    print(f\"    - 파일 크기: {file_size_mb:.2f} MB\")\n",
    "    print(\"\\n이제 streamlit_app.py 코드를 실행할 준비가 되었습니다.\")"
   ]
  },
  {
   "cell_type": "code",
   "execution_count": null,
   "id": "82db5d8e",
   "metadata": {},
   "outputs": [],
   "source": []
  }
 ],
 "metadata": {
  "kernelspec": {
   "display_name": "project-aug",
   "language": "python",
   "name": "python3"
  },
  "language_info": {
   "codemirror_mode": {
    "name": "ipython",
    "version": 3
   },
   "file_extension": ".py",
   "mimetype": "text/x-python",
   "name": "python",
   "nbconvert_exporter": "python",
   "pygments_lexer": "ipython3",
   "version": "3.10.18"
  }
 },
 "nbformat": 4,
 "nbformat_minor": 5
}
